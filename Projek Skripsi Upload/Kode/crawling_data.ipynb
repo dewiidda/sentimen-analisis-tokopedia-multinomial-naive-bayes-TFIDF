{
 "cells": [
  {
   "cell_type": "markdown",
   "metadata": {},
   "source": [
    "# Crawling data"
   ]
  },
  {
   "cell_type": "code",
   "execution_count": 1,
   "metadata": {},
   "outputs": [],
   "source": [
    "import tweepy\n",
    "import csv"
   ]
  },
  {
   "cell_type": "code",
   "execution_count": 2,
   "metadata": {},
   "outputs": [],
   "source": [
    "# consumer keys dan access token, digunakan untuk OAuth\n",
    "consumer_key=\"masukkan kode\"\n",
    "consumer_secret=\"masukkan kode\"\n",
    "\n",
    "access_token=\"masukkan kode\"\n",
    "access_token_secret=\"masukkan kode\""
   ]
  },
  {
   "cell_type": "code",
   "execution_count": 3,
   "metadata": {},
   "outputs": [],
   "source": [
    "# proses OAuth, menggunakan kunci and token yang disimpan pada variabel sebelumnya\n",
    "auth = tweepy.OAuthHandler(consumer_key, consumer_secret)\n",
    "auth.set_access_token(access_token, access_token_secret)\n",
    "\n",
    "api = tweepy.API(auth, wait_on_rate_limit=True)"
   ]
  },
  {
   "cell_type": "code",
   "execution_count": 4,
   "metadata": {},
   "outputs": [],
   "source": [
    "query_pencarian = \"@tokopediacare\"\n",
    "tweets = tweepy.Cursor(api.search, q=query_pencarian, lang=\"id\", result_type=\"mixed\", tweet_mode=\"extended\").items(50)"
   ]
  },
  {
   "cell_type": "code",
   "execution_count": 5,
   "metadata": {},
   "outputs": [
    {
     "name": "stdout",
     "output_type": "stream",
     "text": [
      "[datetime.datetime(2021, 4, 28, 9, 26, 49), 'TokopediaCare', '🥳TOKOPEDIA CARE BAGI-BAGI THR 🥳\\n\\nYuhuuu! udah nggak sabar dapet THR dari Tokopedia Care?\\nYuk langsung ikutan #TokopediaCareGiveaway!💚\\n\\nFollow Instagram @TokopediaCare dan langsung ikutan Giveawaynya di link ini: https://t.co/FVMhkNjCgd']\n",
      "[datetime.datetime(2021, 4, 30, 5, 55, 55), 'TokopediaCare', '@txtdarionlshop Hai Toppers, Terima kasih untuk informasinya ya. Mimin mau infoin kalau saat ini tim @TokopediaCare sudah berhasil menghubungi pembeli dan memberikan solusi atas kendalanya. Tokopedia berkomitmen untuk selalu memberikan kenyamanan bertransaksi keapada seluruh pengguna.--']\n",
      "[datetime.datetime(2021, 5, 5, 2, 16, 45), 'jcmotret', 'Selamat pagi kak @TokopediaCare mohon bantuan nya untuk cancel order bisa kah?']\n",
      "[datetime.datetime(2021, 5, 5, 2, 15, 43), 'Vi_mann', 'Alamat kandas ini mah. Barang kaga nyampe. Duit melayang. Cc: @tokopedia @TokopediaCare @anteraja_id https://t.co/wcIcZioB8e']\n",
      "[datetime.datetime(2021, 5, 5, 2, 13, 34), 'Halu62763074', '@TokopediaCare Jangankan Mata. Otak. Hati. jugak LELAH(:']\n",
      "[datetime.datetime(2021, 5, 5, 2, 5, 5), 'CWiratmaja', '@TokopediaCare TERUS MANA VIDEO BUKTI KALAU PIHAK TOKPED SDH NELP PENJUAL ?']\n",
      "[datetime.datetime(2021, 5, 5, 1, 59, 9), '2d_sutrisno', '@TokopediaCare Telat min jawabnya, sudah dikirim.. Barang sudah sampai dan saldo juga tertahan']\n",
      "[datetime.datetime(2021, 5, 5, 1, 58, 31), 'magicalshell_', '@TokopediaCare min panen telur cuma ada selama bulan ramadhan aja?']\n",
      "[datetime.datetime(2021, 5, 5, 1, 56, 56), 'yusniwidya', '@UkaOjol @tokopedia Sama...@TokopediaCare udah 2 hari ga bisa belanja nih']\n",
      "[datetime.datetime(2021, 5, 5, 1, 51, 21), 'IbuMakiah', '@TokopediaCare hallo pls cek dm thanks']\n",
      "[datetime.datetime(2021, 5, 5, 1, 50, 55), 'chrstinovias', '@TokopediaCare Cek lagi ya kak dmnya makaciii']\n",
      "[datetime.datetime(2021, 5, 5, 1, 49, 24), 'aakuuuuuuu_', '@anteraja_id @TokopediaCare di tokped keterangannya paket nge stuck dari tanggal 28 april di jakarta timur, pas saya cek di web ternyata udh sampai di batam dari tanggal 30 tapi ga nyampe nyampe kerumah saya ini gimana ya.\\nresi nya 10001188789844 https://t.co/aZSkO0PXCE']\n",
      "[datetime.datetime(2021, 5, 5, 1, 45, 18), 'zulkarnaen_alf', 'Saya beli paket di @TokopediaCare pake pengiriman @anteraja_id , namun sudah 11 hari dari estimasi datang tetapi sampai skrg belum di terima, paket stuck di Bandung Hub. Tolong dong di bantu @TokopediaCare https://t.co/hW4Y49PKPA']\n",
      "[datetime.datetime(2021, 4, 28, 9, 26, 34), 'gramynesia', 'RT @kingshadowtae: sharing aja, diawal paket tokped aku gak ada photocard 😭/hopeless/\\n\\nAku coba minta tolong ke @TokopediaCare dan direspon…']\n",
      "[datetime.datetime(2021, 4, 28, 9, 26, 19), 'yulisananda23', 'RT @TokopediaCare: Ikut seneng bisa bantuin kamu.🥰\\n\\nCek DMnya yaaa Kak, Mimin ada kirim kejutan lagi nih buat kamu @kingshadowtae']\n",
      "[datetime.datetime(2021, 4, 28, 9, 25, 59), 'rmoonjia', '@kingshadowtae @TokopediaCare dikasih apalagi nih kyaa 😭🧐']\n",
      "[datetime.datetime(2021, 4, 28, 9, 25, 56), 'yosanaa_', 'minto aku gadapt photocard @tokopedia @TokopediaCare 😭😭 https://t.co/roUjyigdkO']\n",
      "[datetime.datetime(2021, 4, 28, 9, 25, 7), 'jeonnsy', '@TokopediaCare Tadi begini min, tapi aku sudah check out ulang kok cuman gak dapet potongan sih, tapi gak papa min💜💜 https://t.co/sjZBuUcxSU']\n",
      "[datetime.datetime(2021, 4, 28, 9, 25, 3), '_parkjiminsshi', '@TokopediaCare @kingshadowtae Minto apa ga ada minat buat dm aku juga??😭 ucapin selamat sore kek min😭']\n",
      "[datetime.datetime(2021, 4, 28, 9, 24, 27), 'highlighttmy', '@TokopediaCare @kingshadowtae mintoo aku juga mau minta bantuan tapi lupa videoin pas unboxing ☹️☹️']\n"
     ]
    }
   ],
   "source": [
    "# membuat file hasil pengambilan data\n",
    "tweet_set = open(\"data50.csv\", \"w\", encoding=\"utf-8\")\n",
    "writer = csv.writer(tweet_set)\n",
    "\n",
    "# header dari file csv yang akan dibuat\n",
    "writer.writerow(['date','username','fulltext'])\n",
    "\n",
    "# menulis tweet tiap baris\n",
    "for item in tweets:\n",
    "    writer.writerow([item.created_at, item.author.screen_name, item.full_text])\n",
    "    print([item.created_at, item.author.screen_name, item.full_text])"
   ]
  },
  {
   "cell_type": "code",
   "execution_count": null,
   "metadata": {},
   "outputs": [],
   "source": []
  }
 ],
 "metadata": {
  "kernelspec": {
   "display_name": "Python 3",
   "language": "python",
   "name": "python3"
  },
  "language_info": {
   "codemirror_mode": {
    "name": "ipython",
    "version": 3
   },
   "file_extension": ".py",
   "mimetype": "text/x-python",
   "name": "python",
   "nbconvert_exporter": "python",
   "pygments_lexer": "ipython3",
   "version": "3.8.5"
  }
 },
 "nbformat": 4,
 "nbformat_minor": 4
}
